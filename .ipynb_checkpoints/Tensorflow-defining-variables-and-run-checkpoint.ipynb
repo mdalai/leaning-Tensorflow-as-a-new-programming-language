{
 "cells": [
  {
   "cell_type": "code",
   "execution_count": 41,
   "metadata": {
    "collapsed": false,
    "scrolled": true
   },
   "outputs": [
    {
     "name": "stdout",
     "output_type": "stream",
     "text": [
      "8\n"
     ]
    }
   ],
   "source": [
    "a = 3 \n",
    "b = 5\n",
    "c = a + b\n",
    "print(c)"
   ]
  },
  {
   "cell_type": "code",
   "execution_count": null,
   "metadata": {
    "collapsed": true
   },
   "outputs": [],
   "source": []
  },
  {
   "cell_type": "code",
   "execution_count": 48,
   "metadata": {
    "collapsed": false
   },
   "outputs": [
    {
     "name": "stdout",
     "output_type": "stream",
     "text": [
      "8\n"
     ]
    }
   ],
   "source": [
    "a = tf.constant(3)\n",
    "b = tf.constant(5)\n",
    "\n",
    "add_operation = tf.add(a,b)\n",
    "\n",
    "with tf.Session() as sess:\n",
    "    c = sess.run(add_operation)\n",
    "    \n",
    "print(c)"
   ]
  },
  {
   "cell_type": "code",
   "execution_count": 50,
   "metadata": {
    "collapsed": false
   },
   "outputs": [
    {
     "name": "stdout",
     "output_type": "stream",
     "text": [
      "8\n"
     ]
    }
   ],
   "source": [
    "a = tf.placeholder(tf.int32)\n",
    "b = tf.placeholder(tf.int32)\n",
    "c = tf.add(a,b)\n",
    "\n",
    "with tf.Session() as sess:\n",
    "    c = sess.run(c, feed_dict={a:3, b:5})\n",
    "    \n",
    "print(c)"
   ]
  },
  {
   "cell_type": "code",
   "execution_count": 1,
   "metadata": {
    "collapsed": true
   },
   "outputs": [],
   "source": [
    "import tensorflow as tf\n",
    "import numpy as np"
   ]
  },
  {
   "cell_type": "code",
   "execution_count": 8,
   "metadata": {
    "collapsed": false
   },
   "outputs": [
    {
     "name": "stdout",
     "output_type": "stream",
     "text": [
      "100 200\n"
     ]
    }
   ],
   "source": [
    "a = tf.placeholder(tf.int32)\n",
    "with tf.Session() as sess:\n",
    "    output1 = sess.run(a,feed_dict={a:100})\n",
    "    output2 = sess.run(a,feed_dict={a:200})\n",
    "    print(output1, output2)"
   ]
  },
  {
   "cell_type": "code",
   "execution_count": 38,
   "metadata": {
    "collapsed": false
   },
   "outputs": [
    {
     "name": "stdout",
     "output_type": "stream",
     "text": [
      "5.5\n",
      "5\n"
     ]
    }
   ],
   "source": [
    "x = tf.placeholder(tf.int32)\n",
    "y = tf.placeholder(tf.int32)\n",
    "z = x/y - 1\n",
    "z2 = tf.subtract(tf.div(x,y), tf.constant(1))\n",
    "\n",
    "with tf.Session() as sess:\n",
    "    output = sess.run(z, feed_dict={x:13,y:2})\n",
    "    output2 = sess.run(z2, feed_dict={x:13,y:2})\n",
    "    print(output)\n",
    "    print(output2)"
   ]
  },
  {
   "cell_type": "code",
   "execution_count": 52,
   "metadata": {
    "collapsed": false
   },
   "outputs": [
    {
     "name": "stdout",
     "output_type": "stream",
     "text": [
      "32\n"
     ]
    }
   ],
   "source": [
    "a = tf.placeholder(tf.int32)\n",
    "b = tf.placeholder(tf.int32)\n",
    "c = tf.add(a,b)\n",
    "d = tf.div(c,tf.constant(2))\n",
    "e = tf.multiply(d,c)\n",
    "\n",
    "with tf.Session() as sess:\n",
    "    output = sess.run(e, feed_dict={a:3,b:5})\n",
    "    \n",
    "print(output)"
   ]
  },
  {
   "cell_type": "code",
   "execution_count": 56,
   "metadata": {
    "collapsed": false
   },
   "outputs": [
    {
     "name": "stdout",
     "output_type": "stream",
     "text": [
      "w inital value: 0.0\n",
      "w update-1: 15.4\n",
      "w update-2: -87.78\n",
      "w update-3: 603.526\n",
      "w update-4: -4028.22\n",
      "w update-5: 27004.5\n"
     ]
    }
   ],
   "source": [
    "x = np.array([0,1,2,3,4,5,6,7,8,9,10])\n",
    "y = np.array([0,2,4,6,8,10,12,14,16,18,20])\n",
    "\n",
    "w = tf.Variable(0.0) # will constantly update this\n",
    "\n",
    "input_x = tf.placeholder(tf.float32)\n",
    "input_y = tf.placeholder(tf.float32)\n",
    "\n",
    "prediction = tf.multiply(w,x)\n",
    "cost = tf.reduce_sum(tf.square(prediction - y)) # Mean Squared Error\n",
    "optimizer = tf.train.GradientDescentOptimizer(0.01).minimize(cost) # Gradient Descent\n",
    "\n",
    "with tf.Session() as sess:\n",
    "    sess.run(tf.global_variables_initializer())\n",
    "    print(\"w inital value:\", sess.run(w))\n",
    "    \n",
    "    for i in range(5):\n",
    "        sess.run(optimizer, feed_dict={input_x:x,input_y:y})\n",
    "        print(\"w update-%d:\"%(i+1),sess.run(w))\n"
   ]
  }
 ],
 "metadata": {
  "kernelspec": {
   "display_name": "Python 3",
   "language": "python",
   "name": "python3"
  },
  "language_info": {
   "codemirror_mode": {
    "name": "ipython",
    "version": 3
   },
   "file_extension": ".py",
   "mimetype": "text/x-python",
   "name": "python",
   "nbconvert_exporter": "python",
   "pygments_lexer": "ipython3",
   "version": "3.5.3"
  }
 },
 "nbformat": 4,
 "nbformat_minor": 2
}
